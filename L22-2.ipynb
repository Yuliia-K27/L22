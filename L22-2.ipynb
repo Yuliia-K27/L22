{
  "metadata": {
    "language_info": {
      "codemirror_mode": {
        "name": "python",
        "version": 3
      },
      "file_extension": ".py",
      "mimetype": "text/x-python",
      "name": "python",
      "nbconvert_exporter": "python",
      "pygments_lexer": "ipython3",
      "version": "3.8"
    },
    "kernelspec": {
      "name": "python",
      "display_name": "Python (Pyodide)",
      "language": "python"
    }
  },
  "nbformat_minor": 4,
  "nbformat": 4,
  "cells": [
    {
      "cell_type": "code",
      "source": "R = 12  # Кількість дощових днів\nW = 8  # Кількість вітряних днів\nC = 4  # Кількість холодних днів\nRW = 5  # Кількість дощових і вітряних днів\nRC = 3  # Кількість дощових і холодних днів\nBC = 2  # Кількість вітряних і холодних днів\nRWC = 1  # Кількість днів, коли були дощі, вітер та холод\n\nresult = R + W + C - RW - RC - BC + RWC\nprint(\"Кількість днів з гарною погодою:\", result)",
      "metadata": {
        "trusted": true
      },
      "execution_count": 3,
      "outputs": [
        {
          "name": "stdout",
          "text": "Кількість днів з гарною погодою: 15\n",
          "output_type": "stream"
        }
      ]
    },
    {
      "cell_type": "code",
      "source": "",
      "metadata": {},
      "execution_count": null,
      "outputs": []
    }
  ]
}